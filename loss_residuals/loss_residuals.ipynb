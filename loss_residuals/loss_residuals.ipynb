{
  "nbformat": 4,
  "nbformat_minor": 0,
  "metadata": {
    "colab": {
      "provenance": [],
      "gpuType": "T4"
    },
    "kernelspec": {
      "name": "python3",
      "display_name": "Python 3"
    },
    "language_info": {
      "name": "python"
    },
    "accelerator": "GPU"
  },
  "cells": [
    {
      "cell_type": "code",
      "execution_count": 87,
      "metadata": {
        "id": "kdIN2YK-uaE3"
      },
      "outputs": [],
      "source": [
        "import numpy as np\n",
        "import torch\n",
        "from tqdm import tqdm\n",
        "import matplotlib.pyplot as plt\n",
        "import math\n",
        "from scipy.sparse import dok_matrix\n",
        "import torch"
      ]
    },
    {
      "cell_type": "code",
      "source": [
        "device = torch.device(\"cuda\" if torch.cuda.is_available() else \"cpu\")\n",
        "print(device)"
      ],
      "metadata": {
        "colab": {
          "base_uri": "https://localhost:8080/"
        },
        "id": "3HrItVWOvT-O",
        "outputId": "e285b188-ef34-4997-89fc-4fc9cf949812"
      },
      "execution_count": 88,
      "outputs": [
        {
          "output_type": "stream",
          "name": "stdout",
          "text": [
            "cuda\n"
          ]
        }
      ]
    },
    {
      "cell_type": "markdown",
      "source": [
        "# 匯入training data"
      ],
      "metadata": {
        "id": "thiXfcU2ry1x"
      }
    },
    {
      "cell_type": "code",
      "source": [
        "from google.colab import drive\n",
        "drive.mount('/content/drive')"
      ],
      "metadata": {
        "colab": {
          "base_uri": "https://localhost:8080/"
        },
        "id": "mY-27ByOybLK",
        "outputId": "b72f1d1a-6c87-4661-aa04-5f044b9d0262"
      },
      "execution_count": 65,
      "outputs": [
        {
          "output_type": "stream",
          "name": "stdout",
          "text": [
            "Drive already mounted at /content/drive; to attempt to forcibly remount, call drive.mount(\"/content/drive\", force_remount=True).\n"
          ]
        }
      ]
    },
    {
      "cell_type": "code",
      "source": [
        "file_path = '/content/drive/My Drive/rcv1.txt'\n",
        "\n",
        "labels = []\n",
        "rows, cols, target = [], [], []\n",
        "max_index = 0\n",
        "\n",
        "try:\n",
        "    with open(file_path, 'r') as f:\n",
        "        for row_index, line in enumerate(f):\n",
        "            parts = line.strip().split()\n",
        "\n",
        "            labels.append(int(parts[0]))\n",
        "            #print(int(parts[0]))\n",
        "\n",
        "            for item in parts[1:]:\n",
        "                index, value = item.split(':')\n",
        "                index = int(index)\n",
        "                value = float(value)\n",
        "                rows.append(row_index)\n",
        "                cols.append(index)\n",
        "                target.append(value)\n",
        "                max_index = max(max_index, index)\n",
        "            if row_index == 1999:\n",
        "                break\n",
        "\n",
        "    n_samples = len(labels)\n",
        "    n_features = max_index + 1\n",
        "    sparse_matrix = dok_matrix((n_samples, n_features), dtype=np.float32)\n",
        "\n",
        "    for r, c, v in zip(rows, cols, target):\n",
        "        sparse_matrix[r, c] = v\n",
        "\n",
        "    print(f'# of samples:  {n_samples}, # of features: {n_features}' )\n",
        "\n",
        "\n",
        "except Exception as e:\n",
        "    print('Loading file error : ', e)\n",
        "\n",
        "print(labels)\n"
      ],
      "metadata": {
        "id": "VKoG0lNIvT75",
        "colab": {
          "base_uri": "https://localhost:8080/"
        },
        "outputId": "d38f29e0-1be6-490d-e361-a36bb0621166"
      },
      "execution_count": 90,
      "outputs": [
        {
          "output_type": "stream",
          "name": "stdout",
          "text": [
            "# of samples:  2000, # of features: 47225\n",
            "[1, 1, 1, -1, -1, 1, 1, -1, -1, -1, 1, -1, -1, 1, -1, -1, -1, 1, 1, 1, 1, -1, 1, 1, -1, 1, 1, 1, 1, 1, 1, 1, 1, 1, 1, 1, -1, 1, -1, 1, 1, -1, 1, 1, 1, -1, 1, -1, -1, 1, 1, -1, 1, 1, 1, -1, 1, 1, 1, 1, 1, -1, 1, -1, 1, 1, 1, -1, 1, 1, 1, 1, -1, 1, 1, 1, 1, 1, -1, 1, 1, 1, 1, -1, -1, -1, 1, 1, 1, -1, 1, 1, 1, 1, -1, 1, 1, -1, -1, 1, 1, 1, 1, -1, 1, 1, -1, 1, 1, -1, -1, -1, -1, 1, 1, 1, 1, 1, 1, 1, -1, 1, 1, 1, 1, 1, 1, 1, 1, 1, 1, -1, 1, -1, 1, 1, 1, 1, 1, 1, 1, 1, 1, 1, 1, 1, 1, 1, 1, 1, 1, 1, 1, 1, 1, 1, 1, 1, -1, -1, -1, 1, 1, -1, -1, 1, -1, 1, 1, -1, 1, 1, 1, -1, 1, 1, 1, 1, 1, 1, -1, 1, 1, -1, 1, 1, 1, 1, 1, 1, 1, 1, 1, -1, 1, 1, 1, 1, -1, -1, -1, -1, -1, -1, -1, -1, -1, -1, -1, -1, -1, -1, -1, -1, -1, -1, -1, -1, -1, -1, -1, -1, -1, -1, -1, -1, -1, -1, -1, -1, -1, -1, -1, -1, -1, -1, -1, -1, -1, -1, -1, 1, 1, -1, -1, 1, -1, -1, 1, 1, 1, -1, -1, -1, -1, -1, -1, -1, -1, 1, 1, 1, 1, 1, 1, 1, 1, -1, 1, -1, 1, -1, 1, 1, -1, 1, 1, 1, 1, 1, 1, -1, -1, 1, 1, 1, 1, 1, -1, -1, -1, -1, -1, -1, -1, 1, 1, 1, 1, 1, -1, 1, -1, 1, 1, -1, -1, 1, -1, 1, 1, 1, 1, 1, 1, 1, 1, 1, 1, 1, 1, 1, 1, 1, 1, 1, 1, 1, 1, 1, -1, 1, -1, 1, 1, 1, 1, 1, 1, -1, 1, 1, 1, 1, 1, 1, 1, 1, -1, 1, 1, 1, 1, 1, 1, 1, 1, 1, 1, 1, 1, 1, 1, -1, 1, 1, 1, 1, -1, 1, -1, 1, 1, 1, 1, -1, 1, 1, 1, 1, 1, -1, -1, -1, 1, -1, 1, 1, -1, 1, -1, 1, 1, 1, 1, 1, 1, 1, -1, 1, -1, 1, -1, -1, 1, -1, 1, 1, 1, -1, -1, 1, 1, 1, 1, 1, 1, 1, 1, -1, 1, 1, 1, 1, -1, 1, 1, 1, 1, 1, 1, 1, 1, 1, 1, -1, 1, -1, 1, 1, 1, -1, -1, 1, 1, -1, -1, 1, 1, 1, 1, -1, -1, 1, 1, 1, 1, 1, 1, -1, 1, -1, -1, 1, 1, 1, 1, 1, 1, 1, -1, 1, 1, -1, 1, 1, 1, 1, 1, 1, 1, 1, 1, 1, 1, 1, 1, 1, 1, 1, 1, 1, 1, 1, 1, 1, 1, 1, 1, 1, 1, 1, 1, 1, 1, 1, 1, -1, 1, 1, 1, 1, -1, 1, 1, 1, 1, -1, 1, 1, 1, 1, 1, 1, 1, 1, 1, 1, 1, 1, 1, 1, 1, 1, 1, 1, 1, 1, 1, 1, 1, 1, 1, 1, 1, 1, 1, 1, 1, 1, 1, 1, 1, 1, 1, 1, 1, 1, 1, 1, 1, 1, 1, 1, -1, -1, -1, -1, -1, 1, 1, 1, 1, -1, -1, -1, -1, -1, -1, -1, -1, -1, -1, -1, -1, -1, -1, -1, -1, -1, -1, 1, -1, 1, -1, -1, -1, 1, -1, -1, -1, -1, -1, -1, 1, 1, 1, -1, -1, -1, -1, -1, -1, -1, -1, -1, -1, -1, -1, -1, -1, 1, -1, -1, -1, -1, -1, -1, -1, -1, -1, 1, -1, -1, -1, 1, 1, 1, -1, 1, -1, -1, -1, -1, 1, 1, -1, 1, 1, 1, -1, -1, -1, -1, 1, 1, -1, 1, -1, 1, 1, 1, 1, -1, 1, -1, -1, 1, -1, -1, -1, 1, 1, -1, -1, 1, -1, 1, 1, 1, -1, -1, -1, -1, -1, -1, -1, -1, -1, -1, -1, -1, -1, -1, -1, -1, -1, -1, -1, -1, -1, -1, -1, -1, -1, -1, 1, 1, 1, -1, 1, 1, 1, 1, -1, 1, -1, -1, -1, 1, 1, -1, -1, -1, -1, -1, 1, -1, -1, -1, -1, -1, -1, 1, -1, -1, -1, 1, 1, -1, -1, -1, -1, 1, 1, 1, 1, -1, 1, 1, -1, -1, 1, -1, 1, -1, 1, -1, -1, -1, -1, -1, 1, -1, -1, -1, -1, -1, 1, 1, -1, -1, -1, -1, -1, -1, -1, -1, -1, -1, -1, 1, 1, -1, -1, -1, 1, -1, -1, -1, -1, -1, -1, -1, -1, -1, -1, -1, -1, -1, -1, 1, 1, 1, 1, 1, -1, 1, 1, 1, -1, 1, 1, -1, 1, -1, 1, -1, -1, 1, -1, -1, -1, 1, -1, -1, 1, -1, -1, -1, 1, -1, -1, -1, 1, -1, -1, 1, -1, -1, 1, -1, -1, -1, -1, 1, 1, -1, 1, -1, 1, 1, -1, 1, -1, 1, -1, 1, -1, -1, -1, -1, 1, 1, -1, -1, 1, -1, -1, -1, -1, 1, 1, 1, 1, -1, 1, -1, 1, 1, 1, 1, -1, 1, -1, -1, -1, -1, 1, -1, -1, -1, -1, 1, -1, 1, 1, 1, 1, 1, 1, 1, 1, 1, 1, 1, -1, 1, 1, -1, 1, 1, 1, 1, 1, 1, 1, 1, 1, 1, -1, 1, -1, -1, 1, -1, -1, 1, 1, 1, -1, 1, 1, 1, 1, -1, -1, -1, -1, -1, -1, -1, -1, 1, 1, 1, 1, 1, 1, 1, 1, 1, -1, -1, -1, 1, 1, 1, 1, 1, -1, 1, -1, 1, -1, -1, 1, 1, -1, 1, -1, -1, 1, -1, 1, 1, 1, 1, 1, 1, 1, 1, 1, -1, -1, -1, 1, 1, 1, -1, 1, -1, -1, -1, -1, -1, -1, 1, -1, 1, -1, -1, 1, -1, 1, -1, 1, -1, -1, -1, 1, -1, -1, -1, -1, -1, -1, -1, -1, -1, -1, -1, -1, -1, -1, -1, 1, 1, -1, -1, 1, -1, 1, 1, -1, -1, 1, -1, 1, 1, -1, 1, 1, -1, -1, 1, 1, 1, -1, -1, 1, -1, 1, 1, 1, 1, -1, 1, 1, 1, -1, 1, -1, -1, -1, 1, -1, 1, -1, -1, -1, 1, -1, -1, -1, -1, -1, -1, -1, -1, -1, -1, -1, -1, 1, -1, -1, 1, 1, -1, -1, -1, -1, 1, -1, -1, 1, -1, -1, 1, -1, 1, -1, -1, 1, 1, -1, 1, 1, -1, -1, 1, -1, -1, -1, -1, -1, 1, 1, 1, -1, -1, 1, 1, 1, -1, -1, -1, -1, -1, -1, -1, -1, -1, -1, -1, -1, -1, -1, -1, -1, -1, -1, -1, -1, -1, -1, -1, -1, -1, -1, 1, 1, 1, -1, -1, -1, -1, -1, 1, 1, 1, 1, -1, 1, -1, 1, -1, -1, 1, 1, 1, 1, -1, 1, -1, 1, -1, 1, 1, 1, 1, 1, 1, 1, 1, 1, 1, 1, -1, 1, -1, 1, -1, -1, 1, -1, 1, 1, -1, 1, 1, 1, -1, 1, 1, 1, 1, 1, 1, 1, 1, 1, -1, -1, -1, -1, -1, -1, -1, -1, -1, -1, -1, 1, -1, -1, 1, 1, 1, 1, -1, 1, 1, 1, 1, -1, 1, -1, -1, 1, -1, -1, -1, 1, -1, 1, -1, -1, -1, -1, -1, -1, -1, -1, -1, -1, -1, -1, 1, 1, -1, 1, 1, -1, -1, -1, -1, -1, -1, -1, 1, 1, -1, -1, -1, 1, -1, -1, 1, -1, -1, -1, 1, -1, -1, -1, -1, -1, -1, -1, -1, -1, -1, 1, -1, -1, 1, -1, -1, 1, -1, -1, 1, 1, -1, 1, 1, -1, -1, -1, 1, 1, 1, -1, -1, -1, -1, 1, 1, -1, -1, -1, 1, -1, 1, -1, -1, -1, -1, 1, 1, -1, 1, -1, -1, 1, 1, 1, 1, 1, -1, 1, 1, -1, -1, -1, 1, -1, -1, 1, 1, -1, 1, 1, -1, 1, -1, 1, 1, -1, 1, -1, -1, -1, 1, 1, 1, -1, -1, -1, 1, 1, -1, -1, 1, -1, 1, -1, 1, 1, 1, -1, 1, -1, -1, 1, -1, -1, -1, -1, 1, -1, -1, -1, -1, 1, 1, -1, -1, -1, -1, -1, 1, -1, 1, -1, -1, -1, -1, 1, -1, -1, 1, -1, 1, 1, 1, 1, -1, 1, 1, 1, 1, 1, 1, 1, 1, 1, 1, 1, 1, 1, 1, 1, -1, 1, -1, 1, 1, 1, 1, 1, 1, -1, 1, -1, -1, -1, -1, 1, 1, -1, 1, 1, 1, 1, 1, 1, 1, -1, 1, -1, 1, -1, 1, -1, 1, 1, 1, -1, -1, 1, -1, -1, 1, -1, 1, 1, -1, 1, -1, 1, -1, -1, 1, -1, -1, -1, -1, -1, -1, -1, -1, -1, -1, 1, -1, 1, 1, 1, 1, -1, -1, -1, -1, 1, 1, -1, 1, 1, -1, 1, 1, -1, -1, 1, -1, -1, -1, -1, -1, -1, -1, -1, -1, 1, 1, -1, -1, -1, 1, 1, 1, -1, 1, 1, 1, 1, 1, 1, 1, 1, 1, 1, 1, 1, 1, 1, 1, 1, 1, 1, 1, 1, 1, 1, 1, 1, 1, 1, 1, 1, -1, 1, 1, 1, 1, 1, 1, 1, 1, 1, 1, 1, 1, 1, -1, 1, 1, 1, 1, 1, 1, 1, 1, 1, 1, 1, 1, 1, 1, 1, 1, 1, 1, 1, 1, 1, 1, 1, 1, 1, 1, 1, 1, 1, 1, 1, -1, 1, 1, 1, 1, 1, 1, 1, 1, 1, 1, 1, 1, 1, 1, 1, 1, 1, 1, 1, 1, 1, 1, 1, 1, 1, 1, 1, 1, 1, 1, 1, 1, 1, 1, 1, 1, 1, 1, 1, 1, 1, 1, 1, 1, 1, 1, 1, 1, 1, 1, 1, 1, 1, -1, -1, 1, -1, 1, -1, -1, 1, -1, -1, -1, -1, -1, 1, 1, 1, -1, -1, -1, -1, 1, -1, -1, 1, 1, 1, 1, 1, -1, -1, 1, 1, 1, -1, -1, 1, -1, 1, 1, 1, 1, -1, 1, 1, 1, 1, 1, -1, -1, 1, 1, 1, -1, 1, 1, 1, 1, -1, -1, 1, 1, 1, -1, 1, 1, 1, 1, 1, 1, 1, 1, 1, 1, 1, -1, -1, 1, 1, 1, 1, 1, 1, -1, 1, -1, 1, -1, 1, -1, 1, 1, 1, 1, -1, 1, -1, -1, -1, 1, 1, -1, 1, 1, -1, 1, -1, -1, -1, 1, -1, 1, -1, -1, -1, 1, 1, -1, -1, 1, 1, 1, 1, 1, 1, -1, 1, 1, 1, 1, 1, 1, 1, 1, 1, 1, 1, -1, 1, 1, 1, 1, 1, -1, 1, 1, 1, 1, 1, 1, 1, -1, 1, 1, 1, -1, -1, -1, -1, 1, 1, 1, -1, -1, -1, -1, -1, -1, 1, 1, 1, -1, -1, 1, 1, 1, 1, -1, 1, -1, 1, -1, 1, 1, 1, 1, 1, 1, -1, 1, 1, 1, 1, 1, 1, -1, 1, -1, -1, 1, 1, 1, 1, 1, -1, 1, -1, 1, 1, -1, -1, -1, 1, -1, -1, 1, -1, -1, -1, 1, -1, -1, -1, -1, -1, -1, -1, 1, -1, -1, -1, -1, -1, -1, -1, 1, -1, 1, -1, -1, 1, -1, 1, 1, 1, 1, 1, 1, -1, -1, -1, 1, -1, -1, -1, 1, -1, 1, -1, 1, -1, -1, 1, -1, 1, 1, -1, -1, -1, 1, -1, -1, -1, -1, 1, 1, 1, 1, 1, 1, -1, 1, 1, 1, 1, -1, 1, -1, 1, 1, -1, 1, 1, 1, -1, -1, 1, -1, -1, -1, 1, -1, 1, 1, 1, -1, -1, -1, -1, -1, 1, 1, 1, 1, 1, -1, 1, 1, -1, 1, 1, 1, 1, 1, 1, 1, 1, -1, 1, 1, 1, 1, 1, 1, 1, 1, 1, 1]\n"
          ]
        }
      ]
    },
    {
      "cell_type": "markdown",
      "source": [
        "# Hyper Parameters"
      ],
      "metadata": {
        "id": "Q87T1wO_3XX0"
      }
    },
    {
      "cell_type": "code",
      "source": [
        "LR_SARAH = 0.1\n",
        "LR_SVRG = 0.1\n",
        "LR_SGD = 0.1\n",
        "lambda_reg = 1 / n_samples"
      ],
      "metadata": {
        "id": "NMYIzC2i3ZwJ"
      },
      "execution_count": 91,
      "outputs": []
    },
    {
      "cell_type": "code",
      "source": [
        "def sparse_times_dense(x, w):\n",
        "    indices = x._indices()  # 稀疏張量的索引\n",
        "    values = x._values()  # 稀疏張量的值\n",
        "\n",
        "    result = 0\n",
        "\n",
        "\n",
        "    for i in range(values.shape[0]):\n",
        "        result += w[indices[0][i]] * values[i]\n",
        "\n",
        "    # print(result)\n",
        "    return result"
      ],
      "metadata": {
        "id": "NwCkAxUaoBHK"
      },
      "execution_count": 92,
      "outputs": []
    },
    {
      "cell_type": "markdown",
      "source": [
        "# 計算Gradient, Loss"
      ],
      "metadata": {
        "id": "NgadUb1w2u2R"
      }
    },
    {
      "cell_type": "code",
      "source": [
        "def logistic_loss(X, w, y):\n",
        "    loss = torch.zeros(1).to(device)\n",
        "    for xi, yi in zip(X, y):\n",
        "        z = sparse_times_dense(xi, w)\n",
        "        loss += torch.log(1 + torch.exp(-yi * z))\n",
        "    return loss / n_samples + (lambda_reg / 2) * torch.sum(w ** 2)\n",
        "\n",
        "\n",
        "def single_gradient(x, w, y):\n",
        "    z = sparse_times_dense(x, w)  # 單樣本的預測值\n",
        "\n",
        "    exp_term = torch.exp(y * z)\n",
        "\n",
        "    grad_data_loss = (-y.item() * x) / (1 + exp_term.item())\n",
        "    #print((1 + exp_term.item()))\n",
        "\n",
        "    grad_reg = lambda_reg * w\n",
        "    # print(grad_reg + grad_data_loss)\n",
        "    return grad_reg + grad_data_loss\n",
        "\n",
        "def full_gradient(X, w, y):\n",
        "    grad_data_loss = torch.zeros(n_features).to(device)\n",
        "    for xi, yi in zip(X, y):\n",
        "        z = sparse_times_dense(xi, w)\n",
        "        exp_term = torch.exp(yi * z)\n",
        "        grad_data_loss += (-yi.item() * xi) / (1 + exp_term.item())\n",
        "\n",
        "    grad_reg = lambda_reg * w\n",
        "    return grad_data_loss / n_samples + grad_reg\n",
        "\n",
        "# full_gradient(X_train, w_init, y_train)"
      ],
      "metadata": {
        "id": "oaQpwHdcvne5"
      },
      "execution_count": 93,
      "outputs": []
    },
    {
      "cell_type": "markdown",
      "source": [],
      "metadata": {
        "id": "xDSvuSwx42zF"
      }
    },
    {
      "cell_type": "code",
      "source": [
        "w_init = np.zeros(n_features)\n",
        "w_init = torch.tensor(w_init, dtype = torch.float32).to(device)\n",
        "losses = []\n",
        "effective_passes = []\n",
        "total_passes = 0\n",
        "out_iter = 10\n",
        "inner_iter = 250\n",
        "X_train = sparse_matrix\n",
        "y_train = labels\n",
        "coo = sparse_matrix.tocoo()\n",
        "\n",
        "values = torch.tensor(coo.data, dtype=torch.float32)  # 非零值\n",
        "indices = torch.tensor([coo.row, coo.col], dtype=torch.int64)  # 行列索引\n",
        "X_train = torch.sparse_coo_tensor(indices, values, coo.shape).to(device)\n",
        "\n",
        "y_train = torch.tensor(y_train, dtype = torch.float32).to(device)\n",
        "\n",
        "print(y_train.shape)"
      ],
      "metadata": {
        "colab": {
          "base_uri": "https://localhost:8080/"
        },
        "id": "kWqAxLzJXKo4",
        "outputId": "35b98c4e-1d44-474f-d635-36a9e3c68d84"
      },
      "execution_count": 94,
      "outputs": [
        {
          "output_type": "stream",
          "name": "stdout",
          "text": [
            "torch.Size([2000])\n"
          ]
        }
      ]
    },
    {
      "cell_type": "code",
      "source": [
        "torch.cuda.empty_cache()"
      ],
      "metadata": {
        "id": "pUQA4ZtbesaT"
      },
      "execution_count": 95,
      "outputs": []
    },
    {
      "cell_type": "markdown",
      "source": [
        "# SARAH"
      ],
      "metadata": {
        "id": "gyeC8sBSVXwF"
      }
    },
    {
      "cell_type": "code",
      "source": [
        "print(logistic_loss(X_train, w_init, y_train))\n",
        "for s in range(out_iter):\n",
        "    w_0 = w_init.clone()\n",
        "    v_0 = full_gradient(X_train, w_0, y_train)\n",
        "    print(torch.norm(v_0))\n",
        "    w_1 = w_0 - LR_SARAH * v_0\n",
        "    losses.append(logistic_loss(X_train, w_1, y_train))\n",
        "    total_passes += 1\n",
        "    effective_passes.append(total_passes)\n",
        "    idx = np.random.randint(0, inner_iter)\n",
        "    for t in range(inner_iter):\n",
        "        i = np.random.randint(0, n_samples)\n",
        "        v_0 = single_gradient(X_train[i], w_1, y_train[i]) - single_gradient(X_train[i], w_0, y_train[i]) + v_0\n",
        "        w_0 = w_1.clone()\n",
        "        w_1 = w_1 - LR_SARAH * v_0\n",
        "        if t == idx:\n",
        "            w_init = w_1.clone()\n",
        "        total_passes += 2 / n_samples\n",
        "        if(t % 50 == 0):\n",
        "            losses.append(logistic_loss(X_train, w_1, y_train))\n",
        "            effective_passes.append(total_passes)\n",
        "\n"
      ],
      "metadata": {
        "colab": {
          "base_uri": "https://localhost:8080/"
        },
        "id": "oksvtUXOU7P8",
        "outputId": "01e7beaf-9b5c-4147-eaa4-7b822085ce23"
      },
      "execution_count": 97,
      "outputs": [
        {
          "output_type": "stream",
          "name": "stdout",
          "text": [
            "tensor([0.6931], device='cuda:0')\n",
            "tensor(0.0354, device='cuda:0')\n",
            "tensor(0.0339, device='cuda:0')\n",
            "tensor(0.0338, device='cuda:0')\n",
            "tensor(0.0330, device='cuda:0')\n",
            "tensor(0.0318, device='cuda:0')\n",
            "tensor(0.0302, device='cuda:0')\n",
            "tensor(0.0283, device='cuda:0')\n",
            "tensor(0.0282, device='cuda:0')\n",
            "tensor(0.0273, device='cuda:0')\n",
            "tensor(0.0262, device='cuda:0')\n"
          ]
        }
      ]
    },
    {
      "cell_type": "code",
      "source": [
        "print(losses)\n",
        "losses = [t.cpu().tolist() for t in losses]"
      ],
      "metadata": {
        "colab": {
          "base_uri": "https://localhost:8080/"
        },
        "id": "-BGYg2_wE5Dc",
        "outputId": "cd3198b6-2ecb-40f9-ca3c-ae499dac3db5"
      },
      "execution_count": 98,
      "outputs": [
        {
          "output_type": "stream",
          "name": "stdout",
          "text": [
            "[tensor([0.6930], device='cuda:0'), tensor([0.6929], device='cuda:0'), tensor([0.6867], device='cuda:0'), tensor([0.6807], device='cuda:0'), tensor([0.6749], device='cuda:0'), tensor([0.6693], device='cuda:0'), tensor([0.6763], device='cuda:0'), tensor([0.6762], device='cuda:0'), tensor([0.6705], device='cuda:0'), tensor([0.6650], device='cuda:0'), tensor([0.6596], device='cuda:0'), tensor([0.6544], device='cuda:0'), tensor([0.6747], device='cuda:0'), tensor([0.6746], device='cuda:0'), tensor([0.6689], device='cuda:0'), tensor([0.6635], device='cuda:0'), tensor([0.6581], device='cuda:0'), tensor([0.6530], device='cuda:0'), tensor([0.6655], device='cuda:0'), tensor([0.6654], device='cuda:0'), tensor([0.6601], device='cuda:0'), tensor([0.6549], device='cuda:0'), tensor([0.6498], device='cuda:0'), tensor([0.6449], device='cuda:0'), tensor([0.6524], device='cuda:0'), tensor([0.6523], device='cuda:0'), tensor([0.6473], device='cuda:0'), tensor([0.6424], device='cuda:0'), tensor([0.6377], device='cuda:0'), tensor([0.6332], device='cuda:0'), tensor([0.6341], device='cuda:0'), tensor([0.6341], device='cuda:0'), tensor([0.6296], device='cuda:0'), tensor([0.6252], device='cuda:0'), tensor([0.6209], device='cuda:0'), tensor([0.6167], device='cuda:0'), tensor([0.6130], device='cuda:0'), tensor([0.6130], device='cuda:0'), tensor([0.6090], device='cuda:0'), tensor([0.6052], device='cuda:0'), tensor([0.6014], device='cuda:0'), tensor([0.5978], device='cuda:0'), tensor([0.6122], device='cuda:0'), tensor([0.6121], device='cuda:0'), tensor([0.6081], device='cuda:0'), tensor([0.6043], device='cuda:0'), tensor([0.6005], device='cuda:0'), tensor([0.5969], device='cuda:0'), tensor([0.6017], device='cuda:0'), tensor([0.6017], device='cuda:0'), tensor([0.5980], device='cuda:0'), tensor([0.5944], device='cuda:0'), tensor([0.5909], device='cuda:0'), tensor([0.5875], device='cuda:0'), tensor([0.5901], device='cuda:0'), tensor([0.5900], device='cuda:0'), tensor([0.5866], device='cuda:0'), tensor([0.5833], device='cuda:0'), tensor([0.5800], device='cuda:0'), tensor([0.5769], device='cuda:0')]\n"
          ]
        }
      ]
    },
    {
      "cell_type": "markdown",
      "source": [
        "# SVRG"
      ],
      "metadata": {
        "id": "-GZWcDL5rDDb"
      }
    },
    {
      "cell_type": "code",
      "source": [
        "w_tilde = np.zeros(n_features)\n",
        "w_tilde = torch.tensor(w_tilde, dtype = torch.float32).to(device)\n",
        "losses_SVRG = []\n",
        "effective_passes_SVRG = []\n",
        "total_passes = 0\n",
        "next_w_tilde = w_tilde"
      ],
      "metadata": {
        "id": "1UFMbIp9rIvt"
      },
      "execution_count": 112,
      "outputs": []
    },
    {
      "cell_type": "code",
      "source": [
        "for s in range(out_iter):\n",
        "    w_tilde = next_w_tilde.clone()\n",
        "    w_0 = w_tilde.clone()\n",
        "\n",
        "    mu_tilde = full_gradient(X_train, w_tilde, y_train)\n",
        "    print(torch.norm(mu_tilde))\n",
        "\n",
        "    losses_SVRG.append(logistic_loss(X_train, w_tilde, y_train))\n",
        "    total_passes += 1\n",
        "    effective_passes_SVRG.append(total_passes)\n",
        "    idx = np.random.randint(0, inner_iter)\n",
        "    for t in range(inner_iter):\n",
        "        i = np.random.randint(0, n_samples)\n",
        "        v_t = single_gradient(X_train[i], w_0, y_train[i]) - single_gradient(X_train[i], w_tilde, y_train[i]) + mu_tilde\n",
        "        w_1 = w_0 - LR_SVRG * v_t\n",
        "\n",
        "        w_0 = w_1.clone()\n",
        "        if t == idx:\n",
        "          next_w_tilde = w_1.clone()\n",
        "        total_passes += 2 / n_samples\n",
        "        if t % 50 == 0:\n",
        "\n",
        "            losses_SVRG.append(logistic_loss(X_train, w_1, y_train))\n",
        "            effective_passes_SVRG.append(total_passes)\n"
      ],
      "metadata": {
        "colab": {
          "base_uri": "https://localhost:8080/"
        },
        "id": "9QNkrI8hiO55",
        "outputId": "3aa3ca5b-b2e6-4e63-bdc7-2519f44f68aa"
      },
      "execution_count": 113,
      "outputs": [
        {
          "output_type": "stream",
          "name": "stdout",
          "text": [
            "tensor(0.0354, device='cuda:0')\n",
            "tensor(0.0336, device='cuda:0')\n",
            "tensor(0.0320, device='cuda:0')\n",
            "tensor(0.0317, device='cuda:0')\n",
            "tensor(0.0304, device='cuda:0')\n",
            "tensor(0.0295, device='cuda:0')\n",
            "tensor(0.0293, device='cuda:0')\n",
            "tensor(0.0288, device='cuda:0')\n",
            "tensor(0.0280, device='cuda:0')\n",
            "tensor(0.0265, device='cuda:0')\n"
          ]
        }
      ]
    },
    {
      "cell_type": "code",
      "source": [
        "losses_SVRG = [t.cpu().tolist() for t in losses_SVRG]"
      ],
      "metadata": {
        "id": "E0ayCoij2OQ5"
      },
      "execution_count": 114,
      "outputs": []
    },
    {
      "cell_type": "code",
      "source": [
        "optimal_loss = min(losses)\n",
        "optimal_loss = min(optimal_loss, min(losses_SVRG))\n",
        "print(optimal_loss)"
      ],
      "metadata": {
        "colab": {
          "base_uri": "https://localhost:8080/"
        },
        "id": "ZwRo9fnGzdQQ",
        "outputId": "7d8c2e2c-ddb4-4224-878c-c9f7eb6e0fb1"
      },
      "execution_count": 115,
      "outputs": [
        {
          "output_type": "stream",
          "name": "stdout",
          "text": [
            "[0.5768644213676453]\n"
          ]
        }
      ]
    },
    {
      "cell_type": "code",
      "source": [
        "loss_residuals_SVRG = [loss[0] - optimal_loss[0] for loss in losses_SVRG]"
      ],
      "metadata": {
        "id": "fv3hVbpzzass"
      },
      "execution_count": 116,
      "outputs": []
    },
    {
      "cell_type": "code",
      "source": [
        "loss_residuals = [loss[0] - optimal_loss[0] for loss in losses]"
      ],
      "metadata": {
        "id": "adZLf6JovT5p"
      },
      "execution_count": 117,
      "outputs": []
    },
    {
      "cell_type": "markdown",
      "source": [
        "# Plot"
      ],
      "metadata": {
        "id": "TKGpqROn1tIu"
      }
    },
    {
      "cell_type": "code",
      "source": [
        "plt.figure(figsize=(8, 6))\n",
        "plt.plot(effective_passes, loss_residuals, label=\"SARAH\", marker=\"o\", markersize=3)\n",
        "print(len(effective_passes_SVRG))\n",
        "plt.plot(effective_passes_SVRG, loss_residuals_SVRG, label=\"SVRG\", marker='o', markersize=3)\n",
        "plt.xscale(\"linear\")\n",
        "plt.yscale(\"log\")\n",
        "plt.xlabel(\"Number of Effective Passes\")\n",
        "plt.ylabel(\"$P(w) - P(w^*)$\")\n",
        "plt.title(\"rcv1\")\n",
        "plt.legend()\n",
        "plt.grid(True, which=\"both\", linestyle=\"--\", linewidth=0.5)\n",
        "plt.savefig('/content/loss_residuals.png')\n",
        "plt.show()"
      ],
      "metadata": {
        "id": "iOUl_VfIvT3t",
        "colab": {
          "base_uri": "https://localhost:8080/",
          "height": 582
        },
        "outputId": "001386b3-f950-482b-8e2e-28e10b54b432"
      },
      "execution_count": 118,
      "outputs": [
        {
          "output_type": "stream",
          "name": "stdout",
          "text": [
            "60\n"
          ]
        },
        {
          "output_type": "display_data",
          "data": {
            "text/plain": [
              "<Figure size 800x600 with 1 Axes>"
            ],
            "image/png": "[encoded data removed]"
          },
          "metadata": {}
        }
      ]
    },
    {
      "cell_type": "code",
      "source": [
        "for i in range(len(losses_SVRG)):\n",
        "  if i == 0:\n",
        "    print(losses_SVRG[i])\n",
        "  elif effective_passes_SVRG[i] - effective_passes_SVRG[i-1] == 1:\n",
        "    print(losses_SVRG[i])"
      ],
      "metadata": {
        "colab": {
          "base_uri": "https://localhost:8080/"
        },
        "id": "wG7idtQLxCnQ",
        "outputId": "5badf910-582e-4ecb-a61a-3ce8124d4faa"
      },
      "execution_count": 108,
      "outputs": [
        {
          "output_type": "stream",
          "name": "stdout",
          "text": [
            "[0.6944041848182678]\n"
          ]
        }
      ]
    },
    {
      "cell_type": "markdown",
      "source": [
        "# SGD"
      ],
      "metadata": {
        "id": "iPqhaYzLr8vN"
      }
    },
    {
      "cell_type": "code",
      "source": [
        "from google.colab import files\n",
        "files.download('/content/loss_residuals.png')"
      ],
      "metadata": {
        "colab": {
          "base_uri": "https://localhost:8080/",
          "height": 17
        },
        "id": "9I8Vwlzgtqfb",
        "outputId": "682ed94f-b789-4e20-d2a1-03ac4d373ccb"
      },
      "execution_count": 119,
      "outputs": [
        {
          "output_type": "display_data",
          "data": {
            "text/plain": [
              "<IPython.core.display.Javascript object>"
            ],
            "application/javascript": [
              "\n",
              "    async function download(id, filename, size) {\n",
              "      if (!google.colab.kernel.accessAllowed) {\n",
              "        return;\n",
              "      }\n",
              "      const div = document.createElement('div');\n",
              "      const label = document.createElement('label');\n",
              "      label.textContent = `Downloading \"${filename}\": `;\n",
              "      div.appendChild(label);\n",
              "      const progress = document.createElement('progress');\n",
              "      progress.max = size;\n",
              "      div.appendChild(progress);\n",
              "      document.body.appendChild(div);\n",
              "\n",
              "      const buffers = [];\n",
              "      let downloaded = 0;\n",
              "\n",
              "      const channel = await google.colab.kernel.comms.open(id);\n",
              "      // Send a message to notify the kernel that we're ready.\n",
              "      channel.send({})\n",
              "\n",
              "      for await (const message of channel.messages) {\n",
              "        // Send a message to notify the kernel that we're ready.\n",
              "        channel.send({})\n",
              "        if (message.buffers) {\n",
              "          for (const buffer of message.buffers) {\n",
              "            buffers.push(buffer);\n",
              "            downloaded += buffer.byteLength;\n",
              "            progress.value = downloaded;\n",
              "          }\n",
              "        }\n",
              "      }\n",
              "      const blob = new Blob(buffers, {type: 'application/binary'});\n",
              "      const a = document.createElement('a');\n",
              "      a.href = window.URL.createObjectURL(blob);\n",
              "      a.download = filename;\n",
              "      div.appendChild(a);\n",
              "      a.click();\n",
              "      div.remove();\n",
              "    }\n",
              "  "
            ]
          },
          "metadata": {}
        },
        {
          "output_type": "display_data",
          "data": {
            "text/plain": [
              "<IPython.core.display.Javascript object>"
            ],
            "application/javascript": [
              "download(\"download_ec170602-e0f8-4227-9bd0-dc80ee8713b4\", \"loss_residuals.png\", 61452)"
            ]
          },
          "metadata": {}
        }
      ]
    },
    {
      "cell_type": "markdown",
      "source": [],
      "metadata": {
        "id": "5kMKRQkQrG7j"
      }
    }
  ]
}