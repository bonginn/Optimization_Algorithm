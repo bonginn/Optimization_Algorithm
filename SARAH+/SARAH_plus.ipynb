{
  "cells": [
    {
      "cell_type": "code",
      "execution_count": null,
      "metadata": {
        "id": "kdIN2YK-uaE3"
      },
      "outputs": [],
      "source": [
        "import numpy as np\n",
        "import torch\n",
        "from tqdm import tqdm\n",
        "import matplotlib.pyplot as plt\n",
        "import math\n",
        "from scipy.sparse import dok_matrix\n",
        "import torch"
      ]
    },
    {
      "cell_type": "code",
      "execution_count": null,
      "metadata": {
        "colab": {
          "base_uri": "https://localhost:8080/"
        },
        "id": "3HrItVWOvT-O",
        "outputId": "3142e7f3-1699-4c8b-fbad-16acce445358"
      },
      "outputs": [
        {
          "name": "stdout",
          "output_type": "stream",
          "text": [
            "cuda\n"
          ]
        }
      ],
      "source": [
        "device = torch.device(\"cuda\" if torch.cuda.is_available() else \"cpu\")\n",
        "print(device)"
      ]
    },
    {
      "cell_type": "markdown",
      "metadata": {
        "id": "thiXfcU2ry1x"
      },
      "source": [
        "# 匯入training data"
      ]
    },
    {
      "cell_type": "code",
      "execution_count": null,
      "metadata": {
        "colab": {
          "base_uri": "https://localhost:8080/"
        },
        "id": "mY-27ByOybLK",
        "outputId": "851ea4b2-5d7a-43d8-a67d-4a1249aa84af"
      },
      "outputs": [
        {
          "name": "stdout",
          "output_type": "stream",
          "text": [
            "Mounted at /content/drive\n"
          ]
        }
      ],
      "source": [
        "from google.colab import drive\n",
        "drive.mount('/content/drive')"
      ]
    },
    {
      "cell_type": "code",
      "execution_count": 31,
      "metadata": {
        "colab": {
          "base_uri": "https://localhost:8080/"
        },
        "id": "VKoG0lNIvT75",
        "outputId": "55c1d16a-0f02-4d16-9d1a-191388237fbc"
      },
      "outputs": [
        {
          "output_type": "stream",
          "name": "stdout",
          "text": [
            "# of samples:  500, # of features: 47206\n",
            "[1, 1, 1, -1, -1, 1, 1, -1, -1, -1, 1, -1, -1, 1, -1, -1, -1, 1, 1, 1, 1, -1, 1, 1, -1, 1, 1, 1, 1, 1, 1, 1, 1, 1, 1, 1, -1, 1, -1, 1, 1, -1, 1, 1, 1, -1, 1, -1, -1, 1, 1, -1, 1, 1, 1, -1, 1, 1, 1, 1, 1, -1, 1, -1, 1, 1, 1, -1, 1, 1, 1, 1, -1, 1, 1, 1, 1, 1, -1, 1, 1, 1, 1, -1, -1, -1, 1, 1, 1, -1, 1, 1, 1, 1, -1, 1, 1, -1, -1, 1, 1, 1, 1, -1, 1, 1, -1, 1, 1, -1, -1, -1, -1, 1, 1, 1, 1, 1, 1, 1, -1, 1, 1, 1, 1, 1, 1, 1, 1, 1, 1, -1, 1, -1, 1, 1, 1, 1, 1, 1, 1, 1, 1, 1, 1, 1, 1, 1, 1, 1, 1, 1, 1, 1, 1, 1, 1, 1, -1, -1, -1, 1, 1, -1, -1, 1, -1, 1, 1, -1, 1, 1, 1, -1, 1, 1, 1, 1, 1, 1, -1, 1, 1, -1, 1, 1, 1, 1, 1, 1, 1, 1, 1, -1, 1, 1, 1, 1, -1, -1, -1, -1, -1, -1, -1, -1, -1, -1, -1, -1, -1, -1, -1, -1, -1, -1, -1, -1, -1, -1, -1, -1, -1, -1, -1, -1, -1, -1, -1, -1, -1, -1, -1, -1, -1, -1, -1, -1, -1, -1, -1, 1, 1, -1, -1, 1, -1, -1, 1, 1, 1, -1, -1, -1, -1, -1, -1, -1, -1, 1, 1, 1, 1, 1, 1, 1, 1, -1, 1, -1, 1, -1, 1, 1, -1, 1, 1, 1, 1, 1, 1, -1, -1, 1, 1, 1, 1, 1, -1, -1, -1, -1, -1, -1, -1, 1, 1, 1, 1, 1, -1, 1, -1, 1, 1, -1, -1, 1, -1, 1, 1, 1, 1, 1, 1, 1, 1, 1, 1, 1, 1, 1, 1, 1, 1, 1, 1, 1, 1, 1, -1, 1, -1, 1, 1, 1, 1, 1, 1, -1, 1, 1, 1, 1, 1, 1, 1, 1, -1, 1, 1, 1, 1, 1, 1, 1, 1, 1, 1, 1, 1, 1, 1, -1, 1, 1, 1, 1, -1, 1, -1, 1, 1, 1, 1, -1, 1, 1, 1, 1, 1, -1, -1, -1, 1, -1, 1, 1, -1, 1, -1, 1, 1, 1, 1, 1, 1, 1, -1, 1, -1, 1, -1, -1, 1, -1, 1, 1, 1, -1, -1, 1, 1, 1, 1, 1, 1, 1, 1, -1, 1, 1, 1, 1, -1, 1, 1, 1, 1, 1, 1, 1, 1, 1, 1, -1, 1, -1, 1, 1, 1, -1, -1, 1, 1, -1, -1, 1, 1, 1, 1, -1, -1, 1, 1, 1, 1, 1, 1, -1, 1, -1, -1, 1, 1, 1, 1, 1, 1, 1, -1, 1, 1, -1, 1, 1, 1, 1, 1, 1, 1, 1, 1, 1, 1, 1, 1, 1, 1, 1, 1, 1, 1, 1, 1, 1, 1, 1, 1, 1]\n"
          ]
        }
      ],
      "source": [
        "file_path = '/content/drive/My Drive/rcv1.txt'\n",
        "\n",
        "labels = []\n",
        "rows, cols, target = [], [], []\n",
        "max_index = 0\n",
        "\n",
        "try:\n",
        "    with open(file_path, 'r') as f:\n",
        "        for row_index, line in enumerate(f):\n",
        "            parts = line.strip().split()\n",
        "\n",
        "            labels.append(int(parts[0]))\n",
        "            #print(int(parts[0]))\n",
        "\n",
        "            for item in parts[1:]:\n",
        "                index, value = item.split(':')\n",
        "                index = int(index)\n",
        "                value = float(value)\n",
        "                rows.append(row_index)\n",
        "                cols.append(index)\n",
        "                target.append(value)\n",
        "                max_index = max(max_index, index)\n",
        "            if row_index == 499:\n",
        "                break\n",
        "\n",
        "    n_samples = len(labels)\n",
        "    n_features = max_index + 1\n",
        "    sparse_matrix = dok_matrix((n_samples, n_features), dtype=np.float32)\n",
        "\n",
        "    for r, c, v in zip(rows, cols, target):\n",
        "        sparse_matrix[r, c] = v\n",
        "\n",
        "    print(f'# of samples:  {n_samples}, # of features: {n_features}' )\n",
        "\n",
        "\n",
        "except Exception as e:\n",
        "    print('Loading file error : ', e)\n",
        "\n",
        "print(labels)\n"
      ]
    },
    {
      "cell_type": "markdown",
      "metadata": {
        "id": "Q87T1wO_3XX0"
      },
      "source": [
        "# Hyper Parameters"
      ]
    },
    {
      "cell_type": "code",
      "execution_count": null,
      "metadata": {
        "id": "NMYIzC2i3ZwJ"
      },
      "outputs": [],
      "source": [
        "LR = 0.1\n",
        "lambda_reg = 1 / n_samples"
      ]
    },
    {
      "cell_type": "code",
      "execution_count": null,
      "metadata": {
        "id": "NwCkAxUaoBHK"
      },
      "outputs": [],
      "source": [
        "def sparse_times_dense(x, w):\n",
        "    indices = x._indices()  # 稀疏張量的索引\n",
        "    values = x._values()  # 稀疏張量的值\n",
        "\n",
        "    result = 0\n",
        "\n",
        "\n",
        "    for i in range(values.shape[0]):\n",
        "        result += w[indices[0][i]] * values[i]\n",
        "\n",
        "    # print(result)\n",
        "    return result"
      ]
    },
    {
      "cell_type": "markdown",
      "metadata": {
        "id": "NgadUb1w2u2R"
      },
      "source": [
        "# 計算Gradient, Loss"
      ]
    },
    {
      "cell_type": "code",
      "execution_count": null,
      "metadata": {
        "id": "oaQpwHdcvne5"
      },
      "outputs": [],
      "source": [
        "def logistic_loss(X, w, y):\n",
        "    loss = torch.zeros(1).to(device)\n",
        "    for xi, yi in zip(X, y):\n",
        "        z = sparse_times_dense(xi, w)\n",
        "        loss += torch.log(1 + torch.exp(-yi * z))\n",
        "    return loss / n_samples + (lambda_reg / 2) * torch.sum(w ** 2)\n",
        "\n",
        "\n",
        "def single_gradient(x, w, y):\n",
        "    z = sparse_times_dense(x, w)  # 單樣本的預測值\n",
        "\n",
        "    exp_term = torch.exp(y * z)\n",
        "\n",
        "    grad_data_loss = (-y.item() * x) / (1 + exp_term.item())\n",
        "    #print((1 + exp_term.item()))\n",
        "\n",
        "    grad_reg = lambda_reg * w\n",
        "    # print(grad_reg + grad_data_loss)\n",
        "    return grad_reg + grad_data_loss\n",
        "\n",
        "def full_gradient(X, w, y):\n",
        "    grad_data_loss = torch.zeros(n_features).to(device)\n",
        "    for xi, yi in zip(X, y):\n",
        "        z = sparse_times_dense(xi, w)\n",
        "        exp_term = torch.exp(yi * z)\n",
        "        grad_data_loss += (-yi.item() * xi) / (1 + exp_term.item())\n",
        "\n",
        "    grad_reg = lambda_reg * w\n",
        "    return grad_data_loss / n_samples + grad_reg\n",
        "\n",
        "# full_gradient(X_train, w_init, y_train)"
      ]
    },
    {
      "cell_type": "markdown",
      "metadata": {
        "id": "xDSvuSwx42zF"
      },
      "source": []
    },
    {
      "cell_type": "code",
      "execution_count": 33,
      "metadata": {
        "colab": {
          "base_uri": "https://localhost:8080/"
        },
        "id": "kWqAxLzJXKo4",
        "outputId": "9b887746-27ae-4f7b-aae8-b5788b5fe0d6"
      },
      "outputs": [
        {
          "output_type": "stream",
          "name": "stdout",
          "text": [
            "torch.Size([500])\n"
          ]
        }
      ],
      "source": [
        "out_iter = 5\n",
        "inner_iter = 20000\n",
        "X_train = sparse_matrix\n",
        "y_train = labels\n",
        "coo = sparse_matrix.tocoo()\n",
        "\n",
        "values = torch.tensor(coo.data, dtype=torch.float32)  # 非零值\n",
        "indices = torch.tensor([coo.row, coo.col], dtype=torch.int64)  # 行列索引\n",
        "X_train = torch.sparse_coo_tensor(indices, values, coo.shape).to(device)\n",
        "\n",
        "y_train = torch.tensor(y_train, dtype = torch.float32).to(device)\n",
        "\n",
        "print(y_train.shape)\n",
        "losses_gama = []\n",
        "effective_passes_gama = []\n",
        "gama_choice = [1/2, 1/4, 1/8, 1/16, 1/64]"
      ]
    },
    {
      "cell_type": "code",
      "execution_count": null,
      "metadata": {
        "id": "pUQA4ZtbesaT"
      },
      "outputs": [],
      "source": []
    },
    {
      "cell_type": "markdown",
      "metadata": {
        "id": "gyeC8sBSVXwF"
      },
      "source": [
        "# SARAH"
      ]
    },
    {
      "cell_type": "code",
      "execution_count": 34,
      "metadata": {
        "colab": {
          "base_uri": "https://localhost:8080/"
        },
        "id": "oksvtUXOU7P8",
        "outputId": "f16fbae5-5c49-46cd-e77f-c4f4631b6e92"
      },
      "outputs": [
        {
          "output_type": "stream",
          "name": "stdout",
          "text": [
            "tensor(0.0528, device='cuda:0')\n",
            "tensor(0.0367, device='cuda:0')\n",
            "tensor(0.0259, device='cuda:0')\n",
            "tensor(0.0182, device='cuda:0')\n",
            "tensor(0.0128, device='cuda:0')\n",
            "gama: 0.5 done!\n",
            "loss [[0.6928687691688538], [0.5885107517242432], [0.5702629685401917], [0.516183078289032], [0.48808062076568604], [0.45963117480278015], [0.43872779607772827], [0.43336087465286255], [0.41884228587150574], [0.40764591097831726], [0.40094277262687683], [0.3936174809932709], [0.38780677318573], [0.383171021938324]]\n",
            "len:  14\n",
            "tensor(0.0528, device='cuda:0')\n",
            "tensor(0.0267, device='cuda:0')\n",
            "tensor(0.0133, device='cuda:0')\n",
            "tensor(0.0066, device='cuda:0')\n",
            "tensor(0.0033, device='cuda:0')\n",
            "gama: 0.25 done!\n",
            "loss [[0.6928687691688538], [0.5904220938682556], [0.5298405289649963], [0.492961585521698], [0.46302366256713867], [0.4412534236907959], [0.4248653054237366], [0.41230908036231995], [0.403411328792572], [0.3955075442790985], [0.38927724957466125], [0.3843211531639099], [0.38035672903060913], [0.3771671652793884], [0.37458866834640503], [0.3739943504333496], [0.37201225757598877], [0.37039509415626526], [0.3690708875656128], [0.3679831922054291], [0.36708715558052063], [0.3663474917411804], [0.36573559045791626], [0.3656673729419708], [0.36516812443733215], [0.3647528290748596], [0.3644060790538788], [0.3641165494918823], [0.3638741374015808], [0.3636711537837982], [0.3635006248950958]]\n",
            "len:  31\n",
            "tensor(0.0528, device='cuda:0')\n",
            "tensor(0.0184, device='cuda:0')\n",
            "tensor(0.0064, device='cuda:0')\n",
            "tensor(0.0023, device='cuda:0')\n",
            "tensor(0.0008, device='cuda:0')\n",
            "gama: 0.125 done!\n",
            "loss [[0.6928687691688538], [0.5885235071182251], [0.5275180339813232], [0.48750147223472595], [0.4593197703361511], [0.4386630058288574], [0.43469563126564026], [0.4198516309261322], [0.40842127799987793], [0.39950495958328247], [0.3924764096736908], [0.386899471282959], [0.3824414312839508], [0.37887200713157654], [0.37599459290504456], [0.3736634850502014], [0.37339863181114197], [0.37154120206832886], [0.3700214624404907], [0.3687741756439209], [0.3677467405796051], [0.3669007122516632], [0.36620059609413147], [0.3656202554702759], [0.36513808369636536], [0.3647361695766449], [0.3644008934497833], [0.3641209006309509], [0.3641037344932556], [0.36386793851852417], [0.36366936564445496], [0.3635022044181824], [0.3633614480495453], [0.3632422089576721], [0.3631417155265808], [0.36305660009384155], [0.36298438906669617], [0.36292287707328796], [0.36287081241607666], [0.3628268539905548], [0.3627892732620239], [0.362768292427063], [0.3627396523952484], [0.3627150058746338], [0.3626939356327057], [0.36267605423927307], [0.3626607656478882], [0.36264750361442566], [0.3626362085342407], [0.3626265525817871], [0.36261820793151855], [0.36261123418807983], [0.3626048266887665], [0.3625997006893158], [0.3625951409339905]]\n",
            "len:  55\n",
            "tensor(0.0528, device='cuda:0')\n",
            "tensor(0.0135, device='cuda:0')\n",
            "tensor(0.0034, device='cuda:0')\n",
            "tensor(0.0009, device='cuda:0')\n",
            "tensor(0.0002, device='cuda:0')\n",
            "gama: 0.0625 done!\n",
            "loss [[0.6928687691688538], [0.5905958414077759], [0.5302987098693848], [0.4901620149612427], [0.4616967439651489], [0.4408157467842102], [0.4250961244106293], [0.413028359413147], [0.4036804139614105], [0.403498113155365], [0.3954252004623413], [0.38911622762680054], [0.3841424286365509], [0.3801858425140381], [0.3770154118537903], [0.3744600713253021], [0.37238988280296326], [0.3707072138786316], [0.36933523416519165], [0.3682132959365845], [0.36729276180267334], [0.3665347397327423], [0.36590903997421265], [0.3658173680305481], [0.36529791355133057], [0.36486566066741943], [0.36450523138046265], [0.3642045557498932], [0.3639523983001709], [0.36374109983444214], [0.3635632395744324], [0.36341404914855957], [0.3632885813713074], [0.3631824851036072], [0.36309295892715454], [0.363017201423645], [0.3629527688026428], [0.3628982901573181], [0.3628520369529724], [0.3628126084804535], [0.36280563473701477], [0.3627713918685913], [0.3627425730228424], [0.36271753907203674], [0.3626965284347534], [0.3626781404018402], [0.36266255378723145], [0.36264923214912415], [0.3626377582550049], [0.3626277446746826], [0.3626192808151245], [0.3626120686531067], [0.3626057803630829], [0.3626005947589874], [0.3625958561897278], [0.36259183287620544], [0.36258816719055176], [0.36258530616760254], [0.3625826835632324], [0.3625815808773041], [0.3625794053077698], [0.3625776171684265], [0.36257606744766235], [0.36257457733154297], [0.3625734746456146], [0.36257243156433105], [0.36257150769233704], [0.36257076263427734], [0.362570196390152], [0.3625694215297699], [0.3625689744949341], [0.36256837844848633], [0.36256811022758484], [0.36256760358810425], [0.3625674843788147], [0.3625671863555908], [0.36256691813468933], [0.3625667095184326], [0.36256641149520874], [0.3625665605068207]]\n",
            "len:  80\n",
            "tensor(0.0528, device='cuda:0')\n",
            "tensor(0.0075, device='cuda:0')\n",
            "tensor(0.0010, device='cuda:0')\n",
            "tensor(0.0001, device='cuda:0')\n",
            "tensor(1.6737e-05, device='cuda:0')\n",
            "gama: 0.015625 done!\n",
            "loss [[0.6928687691688538], [0.5896363854408264], [0.5298014283180237], [0.49022364616394043], [0.4619939923286438], [0.4411761164665222], [0.4254598021507263], [0.4133945107460022], [0.4040372967720032], [0.396732360124588], [0.39098358154296875], [0.38643497228622437], [0.3828272819519043], [0.37995895743370056], [0.3776768445968628], [0.3765580654144287], [0.37405410408973694], [0.3720536231994629], [0.3704380393028259], [0.3691222667694092], [0.3680480718612671], [0.36716601252555847], [0.36643868684768677], [0.36583539843559265], [0.3653348684310913], [0.36491698026657104], [0.36456769704818726], [0.36427414417266846], [0.364027202129364], [0.36381882429122925], [0.3636423349380493], [0.3634929656982422], [0.36336618661880493], [0.3632584512233734], [0.36316654086112976], [0.363088458776474], [0.36302176117897034], [0.36296483874320984], [0.36291635036468506], [0.36288756132125854], [0.3628447651863098], [0.3628076910972595], [0.3627758324146271], [0.3627483546733856], [0.3627244830131531], [0.36270394921302795], [0.3626861572265625], [0.36267077922821045], [0.3626573979854584], [0.36264562606811523], [0.36263567209243774], [0.362626850605011], [0.36261922121047974], [0.3626124858856201], [0.3626066744327545], [0.362601637840271], [0.36259734630584717], [0.3625933825969696], [0.3625900149345398], [0.3625871539115906], [0.3625844717025757], [0.36258232593536377], [0.36258023977279663], [0.36257851123809814], [0.36257702112197876], [0.36257579922676086], [0.3625744879245758], [0.3625735342502594], [0.3625726103782654], [0.3625718951225281], [0.3625715374946594], [0.36257076263427734], [0.3625701665878296], [0.3625694513320923], [0.36256903409957886], [0.36256861686706543], [0.362568199634552], [0.3625679910182953], [0.36256760358810425], [0.3625671863555908], [0.3625670373439789], [0.36256688833236694], [0.36256662011146545], [0.36256659030914307], [0.36256635189056396], [0.3625662922859192], [0.36256617307662964], [0.3625660836696625], [0.36256587505340576], [0.36256590485572815], [0.36256593465805054], [0.3625657558441162], [0.36256569623947144], [0.36256569623947144], [0.36256563663482666], [0.36256539821624756], [0.36256545782089233], [0.36256539821624756], [0.3625655770301819], [0.36256545782089233], [0.36256542801856995], [0.36256536841392517], [0.36256539821624756], [0.36256539821624756], [0.3625655174255371], [0.3625654876232147], [0.3625653088092804], [0.3625654876232147], [0.3625653386116028], [0.362565279006958], [0.36256536841392517], [0.36256539821624756], [0.362565279006958], [0.36256521940231323], [0.36256515979766846], [0.3625653386116028], [0.3625653386116028], [0.36256542801856995], [0.3625654876232147], [0.3625654876232147], [0.3625653386116028], [0.36256536841392517], [0.3625653386116028], [0.362565279006958], [0.3625653386116028], [0.3625653088092804], [0.362565279006958], [0.36256539821624756], [0.3625652492046356], [0.362565279006958], [0.3625652492046356], [0.36256521940231323], [0.3625652492046356], [0.3625653386116028], [0.3625653386116028], [0.3625653088092804], [0.362565279006958], [0.3625652492046356], [0.36256521940231323], [0.362565279006958], [0.362565279006958], [0.3625652492046356], [0.3625652492046356], [0.362565279006958], [0.3625652492046356]]\n",
            "len:  145\n"
          ]
        }
      ],
      "source": [
        "for gama in gama_choice:\n",
        "    total_passes = 0\n",
        "    losses = []\n",
        "    effective_passes = []\n",
        "    w_init = np.zeros(n_features)\n",
        "    w_init = torch.tensor(w_init, dtype = torch.float32).to(device)\n",
        "    for s in range(out_iter):\n",
        "        w_0 = w_init.clone()\n",
        "        v_0 = full_gradient(X_train, w_0, y_train)\n",
        "        print(torch.norm(v_0))\n",
        "        w_1 = w_0 - LR * v_0\n",
        "        losses.append(logistic_loss(X_train, w_1, y_train))\n",
        "        total_passes += 1\n",
        "        effective_passes.append(total_passes)\n",
        "        idx = np.random.randint(0, inner_iter)\n",
        "        t = 1\n",
        "        v_1 = v_0.clone()\n",
        "        while(torch.norm(v_1) ** 2 > gama * (torch.norm(v_0) ** 2) and t < inner_iter):\n",
        "            i = np.random.randint(0, n_samples)\n",
        "            v_1 = single_gradient(X_train[i], w_1, y_train[i]) - single_gradient(X_train[i], w_0, y_train[i]) + v_1\n",
        "            #print(torch.norm(v_1))\n",
        "            w_0 = w_1.clone()\n",
        "            w_1 = w_1 - LR * v_1\n",
        "\n",
        "            total_passes += 2 / n_samples\n",
        "            if(t % 500 == 0):\n",
        "                losses.append(logistic_loss(X_train, w_1, y_train))\n",
        "                effective_passes.append(total_passes)\n",
        "            t += 1\n",
        "        w_init = w_1.clone()\n",
        "    losses = [t.cpu().tolist() for t in losses]\n",
        "    losses_gama.append(losses)\n",
        "    effective_passes_gama.append(effective_passes)\n",
        "    print(f'gama: {gama} done!')\n",
        "    print('loss ', end='')\n",
        "    print(losses)\n",
        "    print('len: ', len(losses))\n"
      ]
    },
    {
      "cell_type": "code",
      "execution_count": 40,
      "metadata": {
        "colab": {
          "base_uri": "https://localhost:8080/"
        },
        "id": "-BGYg2_wE5Dc",
        "outputId": "939ac544-46a1-471d-eba9-c9ddca297c2d"
      },
      "outputs": [
        {
          "output_type": "stream",
          "name": "stdout",
          "text": [
            "[[[0.6928687691688538], [0.5885107517242432], [0.5702629685401917], [0.516183078289032], [0.48808062076568604], [0.45963117480278015], [0.43872779607772827], [0.43336087465286255], [0.41884228587150574], [0.40764591097831726], [0.40094277262687683], [0.3936174809932709], [0.38780677318573], [0.383171021938324]], [[0.6928687691688538], [0.5904220938682556], [0.5298405289649963], [0.492961585521698], [0.46302366256713867], [0.4412534236907959], [0.4248653054237366], [0.41230908036231995], [0.403411328792572], [0.3955075442790985], [0.38927724957466125], [0.3843211531639099], [0.38035672903060913], [0.3771671652793884], [0.37458866834640503], [0.3739943504333496], [0.37201225757598877], [0.37039509415626526], [0.3690708875656128], [0.3679831922054291], [0.36708715558052063], [0.3663474917411804], [0.36573559045791626], [0.3656673729419708], [0.36516812443733215], [0.3647528290748596], [0.3644060790538788], [0.3641165494918823], [0.3638741374015808], [0.3636711537837982], [0.3635006248950958]], [[0.6928687691688538], [0.5885235071182251], [0.5275180339813232], [0.48750147223472595], [0.4593197703361511], [0.4386630058288574], [0.43469563126564026], [0.4198516309261322], [0.40842127799987793], [0.39950495958328247], [0.3924764096736908], [0.386899471282959], [0.3824414312839508], [0.37887200713157654], [0.37599459290504456], [0.3736634850502014], [0.37339863181114197], [0.37154120206832886], [0.3700214624404907], [0.3687741756439209], [0.3677467405796051], [0.3669007122516632], [0.36620059609413147], [0.3656202554702759], [0.36513808369636536], [0.3647361695766449], [0.3644008934497833], [0.3641209006309509], [0.3641037344932556], [0.36386793851852417], [0.36366936564445496], [0.3635022044181824], [0.3633614480495453], [0.3632422089576721], [0.3631417155265808], [0.36305660009384155], [0.36298438906669617], [0.36292287707328796], [0.36287081241607666], [0.3628268539905548], [0.3627892732620239], [0.362768292427063], [0.3627396523952484], [0.3627150058746338], [0.3626939356327057], [0.36267605423927307], [0.3626607656478882], [0.36264750361442566], [0.3626362085342407], [0.3626265525817871], [0.36261820793151855], [0.36261123418807983], [0.3626048266887665], [0.3625997006893158], [0.3625951409339905]], [[0.6928687691688538], [0.5905958414077759], [0.5302987098693848], [0.4901620149612427], [0.4616967439651489], [0.4408157467842102], [0.4250961244106293], [0.413028359413147], [0.4036804139614105], [0.403498113155365], [0.3954252004623413], [0.38911622762680054], [0.3841424286365509], [0.3801858425140381], [0.3770154118537903], [0.3744600713253021], [0.37238988280296326], [0.3707072138786316], [0.36933523416519165], [0.3682132959365845], [0.36729276180267334], [0.3665347397327423], [0.36590903997421265], [0.3658173680305481], [0.36529791355133057], [0.36486566066741943], [0.36450523138046265], [0.3642045557498932], [0.3639523983001709], [0.36374109983444214], [0.3635632395744324], [0.36341404914855957], [0.3632885813713074], [0.3631824851036072], [0.36309295892715454], [0.363017201423645], [0.3629527688026428], [0.3628982901573181], [0.3628520369529724], [0.3628126084804535], [0.36280563473701477], [0.3627713918685913], [0.3627425730228424], [0.36271753907203674], [0.3626965284347534], [0.3626781404018402], [0.36266255378723145], [0.36264923214912415], [0.3626377582550049], [0.3626277446746826], [0.3626192808151245], [0.3626120686531067], [0.3626057803630829], [0.3626005947589874], [0.3625958561897278], [0.36259183287620544], [0.36258816719055176], [0.36258530616760254], [0.3625826835632324], [0.3625815808773041], [0.3625794053077698], [0.3625776171684265], [0.36257606744766235], [0.36257457733154297], [0.3625734746456146], [0.36257243156433105], [0.36257150769233704], [0.36257076263427734], [0.362570196390152], [0.3625694215297699], [0.3625689744949341], [0.36256837844848633], [0.36256811022758484], [0.36256760358810425], [0.3625674843788147], [0.3625671863555908], [0.36256691813468933], [0.3625667095184326], [0.36256641149520874], [0.3625665605068207]], [[0.6928687691688538], [0.5896363854408264], [0.5298014283180237], [0.49022364616394043], [0.4619939923286438], [0.4411761164665222], [0.4254598021507263], [0.4133945107460022], [0.4040372967720032], [0.396732360124588], [0.39098358154296875], [0.38643497228622437], [0.3828272819519043], [0.37995895743370056], [0.3776768445968628], [0.3765580654144287], [0.37405410408973694], [0.3720536231994629], [0.3704380393028259], [0.3691222667694092], [0.3680480718612671], [0.36716601252555847], [0.36643868684768677], [0.36583539843559265], [0.3653348684310913], [0.36491698026657104], [0.36456769704818726], [0.36427414417266846], [0.364027202129364], [0.36381882429122925], [0.3636423349380493], [0.3634929656982422], [0.36336618661880493], [0.3632584512233734], [0.36316654086112976], [0.363088458776474], [0.36302176117897034], [0.36296483874320984], [0.36291635036468506], [0.36288756132125854], [0.3628447651863098], [0.3628076910972595], [0.3627758324146271], [0.3627483546733856], [0.3627244830131531], [0.36270394921302795], [0.3626861572265625], [0.36267077922821045], [0.3626573979854584], [0.36264562606811523], [0.36263567209243774], [0.362626850605011], [0.36261922121047974], [0.3626124858856201], [0.3626066744327545], [0.362601637840271], [0.36259734630584717], [0.3625933825969696], [0.3625900149345398], [0.3625871539115906], [0.3625844717025757], [0.36258232593536377], [0.36258023977279663], [0.36257851123809814], [0.36257702112197876], [0.36257579922676086], [0.3625744879245758], [0.3625735342502594], [0.3625726103782654], [0.3625718951225281], [0.3625715374946594], [0.36257076263427734], [0.3625701665878296], [0.3625694513320923], [0.36256903409957886], [0.36256861686706543], [0.362568199634552], [0.3625679910182953], [0.36256760358810425], [0.3625671863555908], [0.3625670373439789], [0.36256688833236694], [0.36256662011146545], [0.36256659030914307], [0.36256635189056396], [0.3625662922859192], [0.36256617307662964], [0.3625660836696625], [0.36256587505340576], [0.36256590485572815], [0.36256593465805054], [0.3625657558441162], [0.36256569623947144], [0.36256569623947144], [0.36256563663482666], [0.36256539821624756], [0.36256545782089233], [0.36256539821624756], [0.3625655770301819], [0.36256545782089233], [0.36256542801856995], [0.36256536841392517], [0.36256539821624756], [0.36256539821624756], [0.3625655174255371], [0.3625654876232147], [0.3625653088092804], [0.3625654876232147], [0.3625653386116028], [0.362565279006958], [0.36256536841392517], [0.36256539821624756], [0.362565279006958], [0.36256521940231323], [0.36256515979766846], [0.3625653386116028], [0.3625653386116028], [0.36256542801856995], [0.3625654876232147], [0.3625654876232147], [0.3625653386116028], [0.36256536841392517], [0.3625653386116028], [0.362565279006958], [0.3625653386116028], [0.3625653088092804], [0.362565279006958], [0.36256539821624756], [0.3625652492046356], [0.362565279006958], [0.3625652492046356], [0.36256521940231323], [0.3625652492046356], [0.3625653386116028], [0.3625653386116028], [0.3625653088092804], [0.362565279006958], [0.3625652492046356], [0.36256521940231323], [0.362565279006958], [0.362565279006958], [0.3625652492046356], [0.3625652492046356], [0.362565279006958], [0.3625652492046356]]]\n",
            "0.36256515979766846\n"
          ]
        }
      ],
      "source": [
        "print(losses_gama)\n",
        "optimal = 10000\n",
        "for i in range(len(losses_gama)):\n",
        "  for j in range(len(losses_gama[i])):\n",
        "    optimal = min(optimal, losses_gama[i][j][0])\n",
        "print(optimal)"
      ]
    },
    {
      "cell_type": "code",
      "execution_count": 43,
      "metadata": {
        "id": "fv3hVbpzzass"
      },
      "outputs": [],
      "source": [
        "loss_residuals_gama = []\n",
        "for i in range(len(losses_gama)):\n",
        "\n",
        "  loss_residuals_gama.append([loss[0] - optimal for loss in losses_gama[i]])"
      ]
    },
    {
      "cell_type": "markdown",
      "metadata": {
        "id": "TKGpqROn1tIu"
      },
      "source": [
        "# Plot"
      ]
    },
    {
      "cell_type": "code",
      "execution_count": 47,
      "metadata": {
        "colab": {
          "base_uri": "https://localhost:8080/",
          "height": 564
        },
        "id": "iOUl_VfIvT3t",
        "outputId": "34f69377-e4d4-4bee-951e-4b779c15e8da"
      },
      "outputs": [
        {
          "output_type": "display_data",
          "data": {
            "text/plain": [
              "<Figure size 800x600 with 1 Axes>"
            ],
            "image/png": "[encoded data removed]"
          },
          "metadata": {}
        }
      ],
      "source": [
        "plt.figure(figsize=(8, 6))\n",
        "for i in range(len(losses_gama)):\n",
        "  plt.plot(effective_passes_gama[i], loss_residuals_gama[i], label=f\"gama = {gama_choice[i]}\", marker='o', markersize=3)\n",
        "plt.xscale(\"linear\")\n",
        "plt.yscale(\"log\")\n",
        "plt.xlabel(\"Number of Effective Passes\")\n",
        "plt.ylabel(\"$P(w) - P(w^*)$\")\n",
        "plt.title(\"rcv1\")\n",
        "plt.legend()\n",
        "plt.ylim(1e-5, 1e-1)\n",
        "plt.grid(True, which=\"both\", linestyle=\"--\", linewidth=0.5)\n",
        "# plt.savefig('/content/sarah_plus.png')\n",
        "plt.show()"
      ]
    },
    {
      "cell_type": "code",
      "execution_count": 45,
      "metadata": {
        "colab": {
          "base_uri": "https://localhost:8080/",
          "height": 17
        },
        "id": "9I8Vwlzgtqfb",
        "outputId": "bd681c46-6557-44a5-b2ad-a9675a3e5279"
      },
      "outputs": [
        {
          "output_type": "display_data",
          "data": {
            "text/plain": [
              "<IPython.core.display.Javascript object>"
            ],
            "application/javascript": [
              "\n",
              "    async function download(id, filename, size) {\n",
              "      if (!google.colab.kernel.accessAllowed) {\n",
              "        return;\n",
              "      }\n",
              "      const div = document.createElement('div');\n",
              "      const label = document.createElement('label');\n",
              "      label.textContent = `Downloading \"${filename}\": `;\n",
              "      div.appendChild(label);\n",
              "      const progress = document.createElement('progress');\n",
              "      progress.max = size;\n",
              "      div.appendChild(progress);\n",
              "      document.body.appendChild(div);\n",
              "\n",
              "      const buffers = [];\n",
              "      let downloaded = 0;\n",
              "\n",
              "      const channel = await google.colab.kernel.comms.open(id);\n",
              "      // Send a message to notify the kernel that we're ready.\n",
              "      channel.send({})\n",
              "\n",
              "      for await (const message of channel.messages) {\n",
              "        // Send a message to notify the kernel that we're ready.\n",
              "        channel.send({})\n",
              "        if (message.buffers) {\n",
              "          for (const buffer of message.buffers) {\n",
              "            buffers.push(buffer);\n",
              "            downloaded += buffer.byteLength;\n",
              "            progress.value = downloaded;\n",
              "          }\n",
              "        }\n",
              "      }\n",
              "      const blob = new Blob(buffers, {type: 'application/binary'});\n",
              "      const a = document.createElement('a');\n",
              "      a.href = window.URL.createObjectURL(blob);\n",
              "      a.download = filename;\n",
              "      div.appendChild(a);\n",
              "      a.click();\n",
              "      div.remove();\n",
              "    }\n",
              "  "
            ]
          },
          "metadata": {}
        },
        {
          "output_type": "display_data",
          "data": {
            "text/plain": [
              "<IPython.core.display.Javascript object>"
            ],
            "application/javascript": [
              "download(\"download_ff4cec33-aad5-4ba0-b61c-7929d5c59488\", \"sarah_plus.png\", 71986)"
            ]
          },
          "metadata": {}
        }
      ],
      "source": [
        "from google.colab import files\n",
        "files.download('/content/sarah_plus.png')"
      ]
    },
    {
      "cell_type": "markdown",
      "metadata": {
        "id": "5kMKRQkQrG7j"
      },
      "source": []
    }
  ],
  "metadata": {
    "colab": {
      "provenance": []
    },
    "kernelspec": {
      "display_name": "Python 3",
      "name": "python3"
    },
    "language_info": {
      "name": "python"
    }
  },
  "nbformat": 4,
  "nbformat_minor": 0
}